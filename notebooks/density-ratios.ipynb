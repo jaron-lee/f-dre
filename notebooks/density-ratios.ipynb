{
 "cells": [
  {
   "cell_type": "markdown",
   "id": "abea2cc2",
   "metadata": {},
   "source": [
    "# Working on the DR problem"
   ]
  },
  {
   "cell_type": "code",
   "execution_count": 156,
   "id": "7b40811f",
   "metadata": {},
   "outputs": [],
   "source": [
    "import numpy as np\n",
    "import pandas as pd\n",
    "from scipy import stats\n",
    "from sklearn import linear_model\n",
    "from sklearn import metrics\n",
    "np.random.seed(123)"
   ]
  },
  {
   "cell_type": "code",
   "execution_count": 201,
   "id": "a3fdb4df",
   "metadata": {},
   "outputs": [],
   "source": [
    "def generate_data(N=1000):\n",
    "    #C = np.random.normal(size=N)\n",
    "    \n",
    "    p_logging = stats.norm(loc=0, scale=1)\n",
    "    p_target = stats.norm(loc=1, scale=.5)\n",
    "    A_logging = p_logging.rvs(size=N)\n",
    "    A_target = p_target.rvs(size=N)\n",
    "    Z = [0] * N + [1] * N\n",
    "    X = np.concatenate([A_logging, A_target])\n",
    "    clf = linear_model.LogisticRegression()\n",
    "    clf = clf.fit(X.reshape(-1, 1), Z)\n",
    "    proba = clf.predict_proba(A_logging.reshape(-1, 1))[:,1]\n",
    "    pred_dr = proba / (1-proba)\n",
    "    true_dr = p_target.pdf(A_logging)/p_logging.pdf(A_logging)\n",
    "    kern = np.array([metrics.pairwise.rbf_kernel(np.array([[x]]), np.array([[y]]), gamma=1)[0] for x, y in zip(A_logging, A_target)]).reshape(-1)\n",
    "    Y_logging = np.random.normal(loc=A_logging, scale=1, size=N)\n",
    "    Y_target = np.random.normal(loc=A_target, scale=1, size=N)\n",
    "    return pd.DataFrame({\"true_dr\":true_dr, \"pred_dr\": pred_dr, \"p_logging\": p_logging.pdf(A_logging), \"kern\": kern, \"Y_logging\": Y_logging, \"Y_target\": Y_target, \"A_logging\": A_logging, \"A_target\": A_target})"
   ]
  },
  {
   "cell_type": "code",
   "execution_count": 202,
   "id": "017d27ca",
   "metadata": {},
   "outputs": [
    {
     "data": {
      "text/plain": [
       "array([[1.        , 0.36787944, 1.        ],\n",
       "       [0.36787944, 1.        , 0.36787944],\n",
       "       [0.01831564, 0.36787944, 0.01831564]])"
      ]
     },
     "execution_count": 202,
     "metadata": {},
     "output_type": "execute_result"
    }
   ],
   "source": [
    "metrics.pairwise.rbf_kernel(np.array([1, 2, 3]).reshape(-1, 1), np.array([1, 2,  1]).reshape(-1, 1))"
   ]
  },
  {
   "cell_type": "code",
   "execution_count": 203,
   "id": "0fa9f535",
   "metadata": {},
   "outputs": [],
   "source": [
    "df = generate_data()"
   ]
  },
  {
   "cell_type": "code",
   "execution_count": 204,
   "id": "420ee9ee",
   "metadata": {},
   "outputs": [],
   "source": [
    "bootstraps = 100\n",
    "N = 500\n",
    "results = []\n",
    "for i in range(bootstraps):\n",
    "    df = generate_data(N)\n",
    "    temp = dict()\n",
    "    temp[\"Y_logging\"] = np.mean(df[\"Y_logging\"])\n",
    "    temp[\"Y_target\"] = np.mean(df[\"Y_target\"])\n",
    "    temp[\"true_dr_est\"] = np.mean(df[\"Y_logging\"] * df[\"true_dr\"])\n",
    "    temp[\"pred_dr_est\"] = np.mean(df[\"Y_logging\"] * df[\"pred_dr\"])\n",
    "    temp[\"self_norm_pred_dr_est\"] = np.mean(df[\"Y_logging\"] * df[\"pred_dr\"]) / np.mean(df[\"pred_dr\"])\n",
    "    temp[\"kern_dr_est\"] = np.mean(df[\"Y_logging\"] * df[\"pred_dr\"] * df[\"kern\"]) #/ np.mean(df[\"pred_dr\"] * df[\"kern\"])\n",
    "    temp[\"self_norm_kern_dr_est\"] = np.mean(df[\"Y_logging\"] * df[\"pred_dr\"] * df[\"kern\"]) / np.mean(df[\"pred_dr\"] * df[\"kern\"])\n",
    "    temp[\"self_norm_kern_est\"] = np.mean(df[\"Y_logging\"] / df[\"p_logging\"] * df[\"kern\"]) / (np.mean(df[\"kern\"]/df[\"p_logging\"]))\n",
    "    results.append(temp)"
   ]
  },
  {
   "cell_type": "code",
   "execution_count": 205,
   "id": "f1f61a0e",
   "metadata": {},
   "outputs": [],
   "source": [
    "final_results = pd.DataFrame(results)"
   ]
  },
  {
   "cell_type": "markdown",
   "id": "e50be396",
   "metadata": {},
   "source": [
    "# Estimators\n",
    "\n",
    "In this simple example we have actions and rewards and no context. The actions are all given by simple Gaussian distributions, and the rewards are given as $Y = A + \\epsilon$. We want to compute the reward under the target using only the policies, plus the logging policy rewards\n",
    "\n",
    "* Y_logging: just the mean of the logging policy rewards\n",
    "* Y_target: mean of the target policy rewards (we wouldn't have this in practice)\n",
    "* true_dr_est: computed as $\\frac{1}{N} \\sum_{i=1}^N Y_i w(A_i)$ where $w(A_i)$ is the true density ratio of the two actions (computed as the ratio of the normal density functions)\n",
    "* pred_dr_est: computed as $\\frac{1}{N} \\sum_{i=1}^N Y_i \\hat{w}(A_i)$ where $\\hat{w}(A_i)$ is the predicted density ratio of the two actions (computed using a logistic regression classifier)\n",
    "* self_norm_pred_dr_est: self normalized version of above\n",
    "* kern_dr_est: the current PW method computed as $\\frac{1}{Nh} \\sum_{i=1}^N Y_i \\hat{w}(A_i) K(A_i, A'_i)$ where a kernel (RBF) is used to smooth between $A'_i$ from target and $A_i$ from logging. Bandwidth arbitrarily chosen as $h=1$.\n",
    "* self_norm_kern_dr_est: self normalized version of above\n",
    "* self_norm_kern_est: the self-normalized estimator proposed by Kallus and Zhou\n"
   ]
  },
  {
   "cell_type": "code",
   "execution_count": 206,
   "id": "a7d2a592",
   "metadata": {
    "scrolled": true
   },
   "outputs": [
    {
     "data": {
      "text/plain": [
       "<AxesSubplot:ylabel='Frequency'>"
      ]
     },
     "execution_count": 206,
     "metadata": {},
     "output_type": "execute_result"
    },
    {
     "data": {
      "image/png": "[encoded data removed]",
      "text/plain": [
       "<Figure size 1008x288 with 1 Axes>"
      ]
     },
     "metadata": {
      "needs_background": "light"
     },
     "output_type": "display_data"
    }
   ],
   "source": [
    "final_results[[\"Y_logging\", \"Y_target\", \"pred_dr_est\", \"true_dr_est\", \"kern_dr_est\"]].plot(kind=\"hist\", alpha = .5, bins=100, figsize=(14, 4))"
   ]
  },
  {
   "cell_type": "code",
   "execution_count": 182,
   "id": "1846c909",
   "metadata": {},
   "outputs": [
    {
     "data": {
      "text/html": [
       "<div>\n",
       "<style scoped>\n",
       "    .dataframe tbody tr th:only-of-type {\n",
       "        vertical-align: middle;\n",
       "    }\n",
       "\n",
       "    .dataframe tbody tr th {\n",
       "        vertical-align: top;\n",
       "    }\n",
       "\n",
       "    .dataframe thead th {\n",
       "        text-align: right;\n",
       "    }\n",
       "</style>\n",
       "<table border=\"1\" class=\"dataframe\">\n",
       "  <thead>\n",
       "    <tr style=\"text-align: right;\">\n",
       "      <th></th>\n",
       "      <th>Y_logging</th>\n",
       "      <th>Y_target</th>\n",
       "      <th>true_dr_est</th>\n",
       "      <th>pred_dr_est</th>\n",
       "      <th>self_norm_pred_dr_est</th>\n",
       "      <th>kern_dr_est</th>\n",
       "      <th>self_norm_kern_dr_est</th>\n",
       "      <th>self_norm_kern_est</th>\n",
       "    </tr>\n",
       "  </thead>\n",
       "  <tbody>\n",
       "    <tr>\n",
       "      <th>count</th>\n",
       "      <td>100.000000</td>\n",
       "      <td>100.000000</td>\n",
       "      <td>100.000000</td>\n",
       "      <td>100.000000</td>\n",
       "      <td>100.000000</td>\n",
       "      <td>100.000000</td>\n",
       "      <td>100.000000</td>\n",
       "      <td>100.000000</td>\n",
       "    </tr>\n",
       "    <tr>\n",
       "      <th>mean</th>\n",
       "      <td>-0.002234</td>\n",
       "      <td>0.999054</td>\n",
       "      <td>0.959401</td>\n",
       "      <td>0.961564</td>\n",
       "      <td>0.965452</td>\n",
       "      <td>0.439126</td>\n",
       "      <td>0.973824</td>\n",
       "      <td>0.866403</td>\n",
       "    </tr>\n",
       "    <tr>\n",
       "      <th>std</th>\n",
       "      <td>0.071829</td>\n",
       "      <td>0.067589</td>\n",
       "      <td>0.163306</td>\n",
       "      <td>0.108347</td>\n",
       "      <td>0.094899</td>\n",
       "      <td>0.063598</td>\n",
       "      <td>0.103982</td>\n",
       "      <td>0.225393</td>\n",
       "    </tr>\n",
       "    <tr>\n",
       "      <th>min</th>\n",
       "      <td>-0.140056</td>\n",
       "      <td>0.836307</td>\n",
       "      <td>0.608534</td>\n",
       "      <td>0.734351</td>\n",
       "      <td>0.770035</td>\n",
       "      <td>0.334302</td>\n",
       "      <td>0.792115</td>\n",
       "      <td>0.503470</td>\n",
       "    </tr>\n",
       "    <tr>\n",
       "      <th>25%</th>\n",
       "      <td>-0.046783</td>\n",
       "      <td>0.949552</td>\n",
       "      <td>0.844344</td>\n",
       "      <td>0.890607</td>\n",
       "      <td>0.902016</td>\n",
       "      <td>0.395010</td>\n",
       "      <td>0.895576</td>\n",
       "      <td>0.714091</td>\n",
       "    </tr>\n",
       "    <tr>\n",
       "      <th>50%</th>\n",
       "      <td>0.002009</td>\n",
       "      <td>1.002073</td>\n",
       "      <td>0.948741</td>\n",
       "      <td>0.948967</td>\n",
       "      <td>0.959681</td>\n",
       "      <td>0.429960</td>\n",
       "      <td>0.967610</td>\n",
       "      <td>0.829726</td>\n",
       "    </tr>\n",
       "    <tr>\n",
       "      <th>75%</th>\n",
       "      <td>0.038823</td>\n",
       "      <td>1.047007</td>\n",
       "      <td>1.060618</td>\n",
       "      <td>1.031006</td>\n",
       "      <td>1.026800</td>\n",
       "      <td>0.474849</td>\n",
       "      <td>1.031418</td>\n",
       "      <td>0.952827</td>\n",
       "    </tr>\n",
       "    <tr>\n",
       "      <th>max</th>\n",
       "      <td>0.224887</td>\n",
       "      <td>1.138677</td>\n",
       "      <td>1.618736</td>\n",
       "      <td>1.249658</td>\n",
       "      <td>1.204075</td>\n",
       "      <td>0.638856</td>\n",
       "      <td>1.242510</td>\n",
       "      <td>1.911788</td>\n",
       "    </tr>\n",
       "  </tbody>\n",
       "</table>\n",
       "</div>"
      ],
      "text/plain": [
       "        Y_logging    Y_target  true_dr_est  pred_dr_est  \\\n",
       "count  100.000000  100.000000   100.000000   100.000000   \n",
       "mean    -0.002234    0.999054     0.959401     0.961564   \n",
       "std      0.071829    0.067589     0.163306     0.108347   \n",
       "min     -0.140056    0.836307     0.608534     0.734351   \n",
       "25%     -0.046783    0.949552     0.844344     0.890607   \n",
       "50%      0.002009    1.002073     0.948741     0.948967   \n",
       "75%      0.038823    1.047007     1.060618     1.031006   \n",
       "max      0.224887    1.138677     1.618736     1.249658   \n",
       "\n",
       "       self_norm_pred_dr_est  kern_dr_est  self_norm_kern_dr_est  \\\n",
       "count             100.000000   100.000000             100.000000   \n",
       "mean                0.965452     0.439126               0.973824   \n",
       "std                 0.094899     0.063598               0.103982   \n",
       "min                 0.770035     0.334302               0.792115   \n",
       "25%                 0.902016     0.395010               0.895576   \n",
       "50%                 0.959681     0.429960               0.967610   \n",
       "75%                 1.026800     0.474849               1.031418   \n",
       "max                 1.204075     0.638856               1.242510   \n",
       "\n",
       "       self_norm_kern_est  \n",
       "count          100.000000  \n",
       "mean             0.866403  \n",
       "std              0.225393  \n",
       "min              0.503470  \n",
       "25%              0.714091  \n",
       "50%              0.829726  \n",
       "75%              0.952827  \n",
       "max              1.911788  "
      ]
     },
     "execution_count": 182,
     "metadata": {},
     "output_type": "execute_result"
    }
   ],
   "source": [
    "final_results.describe()"
   ]
  },
  {
   "cell_type": "markdown",
   "id": "6cefe9c2",
   "metadata": {},
   "source": [
    "To summarize, the `pred_dr_est` estimator performs quite well, and is significantly less biased than `kern_dr_est`.  The self-normalized versions eliminate bias and both perform quite well, but leads one to wonder if the kernel is doing anything useful here. "
   ]
  }
 ],
 "metadata": {
  "kernelspec": {
   "display_name": "Python 3 (ipykernel)",
   "language": "python",
   "name": "python3"
  },
  "language_info": {
   "codemirror_mode": {
    "name": "ipython",
    "version": 3
   },
   "file_extension": ".py",
   "mimetype": "text/x-python",
   "name": "python",
   "nbconvert_exporter": "python",
   "pygments_lexer": "ipython3",
   "version": "3.8.12"
  }
 },
 "nbformat": 4,
 "nbformat_minor": 5
}
