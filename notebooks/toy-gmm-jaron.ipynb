{
 "cells": [
  {
   "cell_type": "code",
   "execution_count": 2,
   "metadata": {},
   "outputs": [],
   "source": [
    "import os\n",
    "import sys\n",
    "import time\n",
    "import shutil\n",
    "import logging\n",
    "import argparse\n",
    "import yaml\n",
    "import traceback\n",
    "import math\n",
    "\n",
    "\n",
    "import numpy as np\n",
    "import torch\n",
    "import torch.nn as nn\n",
    "import torch.nn.functional as F\n",
    "import torch.optim as optim\n",
    "from torch.distributions import Normal\n",
    "from torch.utils.data import Dataset, DataLoader\n",
    "from torch.utils.data.dataset import ConcatDataset"
   ]
  },
  {
   "cell_type": "code",
   "execution_count": 8,
   "metadata": {},
   "outputs": [],
   "source": [
    "sys.path.append(os.path.join(os.path.abspath(os.path.join(os.getcwd(), '..'))))\n",
    "sys.path.append(os.path.join(os.path.abspath(os.path.join(os.getcwd(), '..')), 'src'))"
   ]
  },
  {
   "cell_type": "code",
   "execution_count": 9,
   "metadata": {},
   "outputs": [],
   "source": [
    "from flows.models.maf import MAF"
   ]
  },
  {
   "cell_type": "code",
   "execution_count": 10,
   "metadata": {},
   "outputs": [],
   "source": [
    "import matplotlib\n",
    "import matplotlib.pyplot as plt\n",
    "import seaborn as sns\n",
    "sns.set_style('white')\n",
    "sns.set_context('poster')\n",
    "\n",
    "%matplotlib inline\n",
    "%load_ext autoreload\n",
    "%autoreload 2"
   ]
  },
  {
   "cell_type": "code",
   "execution_count": 11,
   "metadata": {},
   "outputs": [
    {
     "data": {
      "text/plain": [
       "['/Users/jaron/Projects/f-dre/notebooks',\n",
       " '/Users/jaron/opt/anaconda3/envs/f-dre/lib/python38.zip',\n",
       " '/Users/jaron/opt/anaconda3/envs/f-dre/lib/python3.8',\n",
       " '/Users/jaron/opt/anaconda3/envs/f-dre/lib/python3.8/lib-dynload',\n",
       " '',\n",
       " '/Users/jaron/opt/anaconda3/envs/f-dre/lib/python3.8/site-packages',\n",
       " '/Users/jaron/Projects/f-dre',\n",
       " '/Users/jaron/Projects/f-dre',\n",
       " '/Users/jaron/Projects/f-dre',\n",
       " '/Users/jaron/Projects/f-dre/src']"
      ]
     },
     "execution_count": 11,
     "metadata": {},
     "output_type": "execute_result"
    }
   ],
   "source": [
    "sys.path"
   ]
  },
  {
   "cell_type": "code",
   "execution_count": 12,
   "metadata": {},
   "outputs": [],
   "source": [
    "from classification.models.mlp import MLPClassifier, MLPClassifierv2\n",
    "from classification.models.flow_mlp import FlowClassifier\n",
    "import argparse\n",
    "import yaml"
   ]
  },
  {
   "cell_type": "markdown",
   "metadata": {},
   "source": [
    "# Helper functions"
   ]
  },
  {
   "cell_type": "code",
   "execution_count": 13,
   "metadata": {},
   "outputs": [],
   "source": [
    "def logsumexp_1p(s):\n",
    "    # numerically stable implementation of log sigmoid via logsumexp\n",
    "    # NOTE: this assumes that you feed in -s for the positive probabilities\n",
    "    if len(s.size()) == 2:\n",
    "        s = s.squeeze()\n",
    "    x = torch.stack([s, torch.zeros_like(s)], -1)\n",
    "    val, _ = torch.max(x, 1)\n",
    "    val = val.repeat(2,1).T\n",
    "    logsigmoid = torch.clamp(s, 0) + torch.log(\n",
    "        torch.sum(torch.exp(x - val), 1))\n",
    "\n",
    "    return -logsigmoid"
   ]
  },
  {
   "cell_type": "code",
   "execution_count": 14,
   "metadata": {},
   "outputs": [],
   "source": [
    "\n",
    "def dict2namespace(config):\n",
    "    namespace = argparse.Namespace()\n",
    "    if isinstance(config, list):\n",
    "        # from creating config files\n",
    "        for i in range(len(config)):\n",
    "            for key, value in config[i].items():\n",
    "                if isinstance(value, dict):\n",
    "                    new_value = dict2namespace(value)\n",
    "                else:\n",
    "                    new_value = value\n",
    "                setattr(namespace, key, new_value)\n",
    "    else:\n",
    "        # vanilla training\n",
    "        for key, value in config.items():\n",
    "            if isinstance(value, dict):\n",
    "                new_value = dict2namespace(value)\n",
    "            else:\n",
    "                new_value = value\n",
    "            setattr(namespace, key, new_value)\n",
    "    return namespace"
   ]
  },
  {
   "cell_type": "code",
   "execution_count": 15,
   "metadata": {},
   "outputs": [],
   "source": [
    "\n",
    "\n",
    "def get_optimizer(config, parameters):\n",
    "    if config.optim.optimizer == 'Adam':\n",
    "        return optim.Adam(parameters, lr=config.optim.lr, weight_decay=config.optim.weight_decay,\n",
    "            betas=(config.optim.beta1, 0.999), amsgrad=config.optim.amsgrad,\n",
    "            eps=config.optim.eps)\n",
    "    elif config.optim.optimizer == 'RMSProp':\n",
    "        return optim.RMSprop(parameters, lr=config.optim.lr, weight_decay=config.optim.weight_decay)\n",
    "    elif config.optim.optimizer == 'SGD':\n",
    "        return optim.SGD(parameters, lr=config.optim.lr, momentum=0.9)\n",
    "    else:\n",
    "        raise NotImplementedError(\n",
    "            'Optimizer {} not understood.'.format(config.optim.optimizer))\n",
    "        \n",
    "@torch.no_grad()\n",
    "def test(model, dataloader, epoch, args, device):\n",
    "    model.eval()\n",
    "    logprobs = []\n",
    "\n",
    "    # unconditional model\n",
    "    for data in dataloader:\n",
    "\n",
    "        if len(data) == 1:\n",
    "            x, y = data[0], None\n",
    "        else:\n",
    "            x, y = data\n",
    "            y = y.to(device)\n",
    "        x = x.to(device).view(x.shape[0], -1)\n",
    "        log_px = model.module.log_prob(x)\n",
    "        logprobs.append(log_px)\n",
    "    logprobs = torch.cat(logprobs, dim=0).to(device)\n",
    "\n",
    "    logprob_mean, logprob_std = logprobs.mean(0), 2 * logprobs.var(0).sqrt() / math.sqrt(len(dataloader.dataset))\n",
    "    output = 'Evaluate ' + (epoch != None)*'(epoch {}) -- '.format(epoch) + 'logp(x) = {:.3f} +/- {:.3f}'.format(logprob_mean, logprob_std)\n",
    "    print(output)\n",
    "    results_file = os.path.join(args.out_dir, 'results.txt')\n",
    "    print(output, file=open(results_file, 'a'))\n",
    "    return logprob_mean, logprob_std\n",
    "\n",
    "def get_model(config):\n",
    "    return MAF(config.model.n_blocks, config.model.input_size, config.model.hidden_size, config.model.n_hidden, None, \n",
    "                config.model.activation_fn, config.model.input_order, batch_norm=not config.model.no_batch_norm)\n",
    "    \n",
    "def train(args, config, dataloaders, device):\n",
    "    train_dataloader, val_dataloader, test_dataloader = dataloaders \n",
    "    \n",
    "    model = get_model(config)\n",
    "          \n",
    "    model = model.to(device)\n",
    "\n",
    "\n",
    "    optimizer = get_optimizer(config, model.parameters())\n",
    "\n",
    "    start_epoch, step = 0, 0\n",
    "    best_eval_logprob = float('-inf')\n",
    "    if args.resume_training:\n",
    "        print('restoring checkpoint from {}'.format(args.restore_file))\n",
    "        state = torch.load(os.path.join(args.restore_file, \"best_model_checkpoint.pt\"), map_location=device)\n",
    "        model.load_state_dict(state['model_state'])\n",
    "        optimizer.load_state_dict(state['optimizer_state'])\n",
    "        start_epoch = state['epoch'] + 1\n",
    "    model = torch.nn.DataParallel(model)\n",
    "\n",
    "    # Training loop\n",
    "    for epoch in range(start_epoch, config.training.n_epochs):\n",
    "        data_start = time.time()\n",
    "        data_time = 0\n",
    "        # original maf code\n",
    "        for i, data in enumerate(train_dataloader):\n",
    "            \n",
    "            \n",
    "            # Sets model in training mode\n",
    "            model.train()\n",
    "            step += 1\n",
    "\n",
    "            # check if labeled dataset\n",
    "            if len(data) == 1:\n",
    "                x, y = data[0], None\n",
    "            else:\n",
    "                x, y = data\n",
    "                y = y.to(device)\n",
    "            x = x.view(x.shape[0], -1).to(device)\n",
    "            \n",
    "            # Evaluate loss\n",
    "            loss = -model.module.log_prob(x, y=None).mean(0)\n",
    "            \n",
    "            # Compute gradients\n",
    "            loss.backward()\n",
    "            optimizer.step()\n",
    "            \n",
    "            # Zero gradients\n",
    "            optimizer.zero_grad()\n",
    "\n",
    "            if i % config.training.log_interval == 0:\n",
    "                print('epoch {:3d} / {}, step {:4d} / {}; loss {:.4f}'.format(\n",
    "                    epoch, start_epoch + config.training.n_epochs, i, len(train_dataloader), loss.item()))\n",
    "\n",
    "            data_start = time.time()\n",
    "\n",
    "        # now evaluate and save metrics/checkpoints\n",
    "        eval_logprob, _ = test(\n",
    "            model, test_dataloader, epoch, args, device)\n",
    "\n",
    "        torch.save({\n",
    "            'epoch': epoch,\n",
    "            'model_state': model.module.state_dict(),\n",
    "            'optimizer_state': optimizer.state_dict()},\n",
    "            os.path.join(args.out_dir, 'model_checkpoint.pt'))\n",
    "        # save model only\n",
    "        torch.save(\n",
    "            model.state_dict(), os.path.join(\n",
    "                args.out_dir, 'model_state.pt'))\n",
    "        # save best state\n",
    "        if eval_logprob > best_eval_logprob:\n",
    "            best_eval_logprob = eval_logprob\n",
    "            print('saving model at epoch {}'.format(epoch))\n",
    "            torch.save({\n",
    "                'epoch': epoch,\n",
    "                'model_state': model.module.state_dict(),\n",
    "                'optimizer_state': optimizer.state_dict()},\n",
    "                os.path.join(args.out_dir, 'best_model_checkpoint.pt'))\n",
    "            # generate samples\n",
    "#             self.visualize(self.args, model, epoch)"
   ]
  },
  {
   "cell_type": "code",
   "execution_count": 16,
   "metadata": {},
   "outputs": [],
   "source": [
    "class Gaussian(Dataset):\n",
    "    def __init__(self, args, config, typ, split='train'):\n",
    "        self.args = args\n",
    "        self.config = config\n",
    "        self.split = split\n",
    "        self.type = typ\n",
    "        assert self.type in ['bias', 'ref']\n",
    "\n",
    "        self.p_mu = self.config.data.mus[0]\n",
    "        self.q_mu = self.config.data.mus[1]\n",
    "\n",
    "        self.perc = config.data.perc\n",
    "        self.input_size = config.data.input_size\n",
    "        self.label_size = 1\n",
    "        self.base_dist = Normal(self.config.data.mus[0], 1)  # bias\n",
    "        \n",
    "        ### ADD HOTFIX\n",
    "        try:\n",
    "            fpath = os.path.join(self.config.training.data_dir, 'gmm')\n",
    "            data = np.load(os.path.join(fpath, 'gmm_p{}_q{}.npz'.format(self.p_mu, self.q_mu)))\n",
    "        except FileNotFoundError:\n",
    "            if not os.path.exists(fpath):\n",
    "                os.makedirs(fpath)\n",
    "            data = self.generate_data()\n",
    "\n",
    "        if self.type == 'bias':\n",
    "            data = data['p']\n",
    "        else:\n",
    "            data = data['q']\n",
    "\n",
    "        # train/val/test split\n",
    "        if split == 'train':\n",
    "            data = data[0:40000]\n",
    "        elif split == 'val':\n",
    "            data = data[40000:45000]\n",
    "        else:\n",
    "            data = data[45000:]\n",
    "        if self.type == 'ref' and self.split != 'val':  # keep val same\n",
    "            to_keep = int(len(data) * self.perc)\n",
    "            data = data[0:to_keep]\n",
    "        self.data = torch.from_numpy(data).float()\n",
    "\n",
    "    def generate_data(self):\n",
    "        p = np.random.randn(50000,2) + self.p_mu\n",
    "        q = np.random.randn(50000,2) + self.q_mu\n",
    "        np.savez(os.path.join(self.config.training.data_dir, 'gmm', 'gmm_p{}_q{}.npz'.format(self.p_mu, self.q_mu)), **{\n",
    "            'p': p,\n",
    "            'q': q\n",
    "        })\n",
    "        return {'p': p, 'q': q}\n",
    "\n",
    "    def __len__(self):\n",
    "        return len(self.data)\n",
    "\n",
    "    def __getitem__(self, i):\n",
    "        item = self.data[i]\n",
    "        if self.type == 'bias':\n",
    "            label = torch.zeros(1)\n",
    "        else:\n",
    "            label = torch.ones(1)\n",
    "\n",
    "        return item, label\n"
   ]
  },
  {
   "cell_type": "code",
   "execution_count": 17,
   "metadata": {},
   "outputs": [],
   "source": [
    "def get_dataloaders(args, config, device):\n",
    "    pass\n",
    "\n",
    "def get_gaussian_dataloaders(args, config, device):\n",
    "    \n",
    "    print(\"Getting dataloaders\")\n",
    "    input_dims = 2\n",
    "    label_size = 1\n",
    "    lam = 1e-6\n",
    "    batch_size = config.training.batch_size\n",
    "    \n",
    "    train_biased = Gaussian(args, config, 'bias', split='train')\n",
    "    val_biased = Gaussian(args, config, 'bias', split='val')\n",
    "    test_biased = Gaussian(args, config, 'bias', split='test')\n",
    "\n",
    "    train_ref = Gaussian(args, config, 'ref', split='train')\n",
    "    val_ref = Gaussian(args, config, 'ref', split='val')\n",
    "    test_ref = Gaussian(args, config, 'ref', split='test')\n",
    "\n",
    "    if args.encode_z:\n",
    "        # keep each dataset separate for encoding\n",
    "        for dataset in (train_biased, train_ref):\n",
    "            dataset.input_dims = input_dims\n",
    "            dataset.input_size = int(np.prod(input_dims))\n",
    "            dataset.label_size = label_size\n",
    "\n",
    "        kwargs = {'num_workers': 1, 'pin_memory': True} if device.type == 'cuda' else {}\n",
    "\n",
    "        train_loader_biased = DataLoader(train_biased, batch_size, shuffle=True, **kwargs)\n",
    "        val_loader_biased = DataLoader(val_biased, batch_size, shuffle=False, **kwargs)\n",
    "        test_loader_biased = DataLoader(test_biased, batch_size, shuffle=False, **kwargs)\n",
    "        train_loader_ref = DataLoader(train_ref, batch_size, shuffle=True, **kwargs)\n",
    "        val_loader_ref = DataLoader(val_ref, batch_size, shuffle=False, **kwargs)\n",
    "        test_loader_ref = DataLoader(test_ref, batch_size, shuffle=False, **kwargs)\n",
    "\n",
    "        return [train_loader_biased, train_loader_ref], [val_loader_biased, val_loader_ref], [test_loader_biased, test_loader_ref]\n",
    "\n",
    "    train_dataset = ConcatDataset([train_biased, train_ref])\n",
    "    val_dataset = ConcatDataset([val_biased, val_ref])\n",
    "    test_dataset = ConcatDataset([test_biased, test_ref])\n",
    "    \n",
    "    train_dataset.input_dims = input_dims\n",
    "    train_dataset.input_size = int(np.prod(input_dims))\n",
    "    train_dataset.label_size = label_size\n",
    "    train_dataset.lam = lam\n",
    "\n",
    "    test_dataset.input_dims = input_dims\n",
    "    test_dataset.input_size = int(np.prod(input_dims))\n",
    "    test_dataset.label_size = label_size\n",
    "    test_dataset.lam = lam\n",
    "\n",
    "    if val_dataset is not None:\n",
    "        val_dataset.input_dims = input_dims\n",
    "        val_dataset.input_size = int(np.prod(input_dims))\n",
    "        val_dataset.label_size = label_size\n",
    "        val_dataset.lam = lam\n",
    "\n",
    "    # construct dataloaders\n",
    "    kwargs = {'num_workers': 1, 'pin_memory': True} if device.type == 'cuda' else {}\n",
    "\n",
    "    train_loader = DataLoader(train_dataset, batch_size, shuffle=True, **kwargs)\n",
    "    val_loader = DataLoader(val_dataset, batch_size, shuffle=False, **kwargs) if val_dataset is not None else None\n",
    "    test_loader = DataLoader(test_dataset, batch_size, shuffle=False, **kwargs)\n",
    "    \n",
    "    return train_loader, val_loader, test_loader"
   ]
  },
  {
   "cell_type": "markdown",
   "metadata": {},
   "source": [
    "# Get args and config"
   ]
  },
  {
   "cell_type": "code",
   "execution_count": 71,
   "metadata": {},
   "outputs": [],
   "source": [
    "def set_up_args_and_configs():\n",
    "    args = {'config': '/Users/jaron/Projects/f-dre/src/configs/flows/gmm/maf_copy.yaml',\n",
    "           'exp_id': 'gmm_flow_exp', \n",
    "           'resume_training': False,\n",
    "           'restore_file': False,\n",
    "           'seed': 1234, \n",
    "           'encode_z': False}\n",
    "    args = dict2namespace(args)\n",
    "    with open(os.path.join('configs', args.config), 'r') as f:\n",
    "        config = yaml.safe_load(f)\n",
    "    new_config = dict2namespace(config)\n",
    "    \n",
    "    args.out_dir = os.path.join(new_config.training.out_dir, args.exp_id)\n",
    "    print(os.path.exists(args.out_dir))\n",
    "    if not os.path.exists(args.out_dir):\n",
    "        print(args.out_dir)\n",
    "        os.makedirs(args.out_dir, exist_ok=True)\n",
    "    args.log_path = os.path.join(args.out_dir, 'logs')\n",
    "    os.makedirs(args.out_dir, exist_ok=True)\n",
    "    \n",
    "    torch.manual_seed(args.seed)\n",
    "    np.random.seed(args.seed)\n",
    "    if torch.cuda.is_available():\n",
    "        torch.cuda.manual_seed_all(args.seed)\n",
    "        \n",
    "    return args, new_config"
   ]
  },
  {
   "cell_type": "code",
   "execution_count": 72,
   "metadata": {},
   "outputs": [
    {
     "name": "stdout",
     "output_type": "stream",
     "text": [
      "True\n"
     ]
    }
   ],
   "source": [
    "args, config = set_up_args_and_configs()"
   ]
  },
  {
   "cell_type": "code",
   "execution_count": 73,
   "metadata": {},
   "outputs": [],
   "source": [
    "device = torch.device('cuda') if torch.cuda.is_available() else torch.device('cpu')"
   ]
  },
  {
   "cell_type": "markdown",
   "metadata": {},
   "source": [
    "# Run training"
   ]
  },
  {
   "cell_type": "code",
   "execution_count": 74,
   "metadata": {
    "scrolled": true
   },
   "outputs": [
    {
     "name": "stdout",
     "output_type": "stream",
     "text": [
      "Getting dataloaders\n"
     ]
    }
   ],
   "source": [
    "dataloaders = get_gaussian_dataloaders(args, config, device)"
   ]
  },
  {
   "cell_type": "code",
   "execution_count": 75,
   "metadata": {},
   "outputs": [
    {
     "data": {
      "text/plain": [
       "(<torch.utils.data.dataloader.DataLoader at 0x7f8a588baa30>,\n",
       " <torch.utils.data.dataloader.DataLoader at 0x7f8a588ba670>,\n",
       " <torch.utils.data.dataloader.DataLoader at 0x7f8a588bad90>)"
      ]
     },
     "execution_count": 75,
     "metadata": {},
     "output_type": "execute_result"
    }
   ],
   "source": [
    "dataloaders\n"
   ]
  },
  {
   "cell_type": "code",
   "execution_count": 76,
   "metadata": {},
   "outputs": [
    {
     "name": "stdout",
     "output_type": "stream",
     "text": [
      "epoch   0 / 100, step    0 / 800; loss 4.0832\n",
      "epoch   0 / 100, step  500 / 800; loss 3.6061\n",
      "Evaluate (epoch 0) -- logp(x) = -3.498 +/- 0.019\n",
      "saving model at epoch 0\n",
      "epoch   1 / 100, step    0 / 800; loss 3.5299\n",
      "epoch   1 / 100, step  500 / 800; loss 3.5893\n",
      "Evaluate (epoch 1) -- logp(x) = -3.509 +/- 0.019\n",
      "epoch   2 / 100, step    0 / 800; loss 3.5287\n",
      "epoch   2 / 100, step  500 / 800; loss 3.5536\n",
      "Evaluate (epoch 2) -- logp(x) = -3.492 +/- 0.019\n",
      "saving model at epoch 2\n",
      "epoch   3 / 100, step    0 / 800; loss 3.4646\n",
      "epoch   3 / 100, step  500 / 800; loss 3.4975\n",
      "Evaluate (epoch 3) -- logp(x) = -3.498 +/- 0.018\n",
      "epoch   4 / 100, step    0 / 800; loss 3.4104\n",
      "epoch   4 / 100, step  500 / 800; loss 3.4310\n",
      "Evaluate (epoch 4) -- logp(x) = -3.497 +/- 0.019\n",
      "epoch   5 / 100, step    0 / 800; loss 3.4249\n",
      "epoch   5 / 100, step  500 / 800; loss 3.4406\n",
      "Evaluate (epoch 5) -- logp(x) = -3.496 +/- 0.019\n",
      "epoch   6 / 100, step    0 / 800; loss 3.5525\n",
      "epoch   6 / 100, step  500 / 800; loss 3.3852\n",
      "Evaluate (epoch 6) -- logp(x) = -3.496 +/- 0.019\n",
      "epoch   7 / 100, step    0 / 800; loss 3.5921\n",
      "epoch   7 / 100, step  500 / 800; loss 3.4744\n",
      "Evaluate (epoch 7) -- logp(x) = -3.492 +/- 0.019\n",
      "saving model at epoch 7\n",
      "epoch   8 / 100, step    0 / 800; loss 3.4239\n",
      "epoch   8 / 100, step  500 / 800; loss 3.4529\n",
      "Evaluate (epoch 8) -- logp(x) = -3.499 +/- 0.019\n",
      "epoch   9 / 100, step    0 / 800; loss 3.6803\n",
      "epoch   9 / 100, step  500 / 800; loss 3.5491\n",
      "Evaluate (epoch 9) -- logp(x) = -3.489 +/- 0.019\n",
      "saving model at epoch 9\n",
      "epoch  10 / 100, step    0 / 800; loss 3.4648\n",
      "epoch  10 / 100, step  500 / 800; loss 3.4424\n",
      "Evaluate (epoch 10) -- logp(x) = -3.490 +/- 0.018\n",
      "epoch  11 / 100, step    0 / 800; loss 3.5996\n",
      "epoch  11 / 100, step  500 / 800; loss 3.5062\n",
      "Evaluate (epoch 11) -- logp(x) = -3.496 +/- 0.020\n",
      "epoch  12 / 100, step    0 / 800; loss 3.4768\n",
      "epoch  12 / 100, step  500 / 800; loss 3.5288\n",
      "Evaluate (epoch 12) -- logp(x) = -3.495 +/- 0.018\n",
      "epoch  13 / 100, step    0 / 800; loss 3.4956\n",
      "epoch  13 / 100, step  500 / 800; loss 3.3649\n",
      "Evaluate (epoch 13) -- logp(x) = -3.488 +/- 0.019\n",
      "saving model at epoch 13\n",
      "epoch  14 / 100, step    0 / 800; loss 3.6107\n",
      "epoch  14 / 100, step  500 / 800; loss 3.4461\n",
      "Evaluate (epoch 14) -- logp(x) = -3.493 +/- 0.019\n",
      "epoch  15 / 100, step    0 / 800; loss 3.5190\n",
      "epoch  15 / 100, step  500 / 800; loss 3.6210\n",
      "Evaluate (epoch 15) -- logp(x) = -3.491 +/- 0.018\n",
      "epoch  16 / 100, step    0 / 800; loss 3.5308\n",
      "epoch  16 / 100, step  500 / 800; loss 3.4060\n",
      "Evaluate (epoch 16) -- logp(x) = -3.492 +/- 0.019\n",
      "epoch  17 / 100, step    0 / 800; loss 3.5624\n",
      "epoch  17 / 100, step  500 / 800; loss 3.5730\n",
      "Evaluate (epoch 17) -- logp(x) = -3.496 +/- 0.019\n",
      "epoch  18 / 100, step    0 / 800; loss 3.3387\n",
      "epoch  18 / 100, step  500 / 800; loss 3.5727\n",
      "Evaluate (epoch 18) -- logp(x) = -3.495 +/- 0.020\n",
      "epoch  19 / 100, step    0 / 800; loss 3.3307\n",
      "epoch  19 / 100, step  500 / 800; loss 3.4273\n",
      "Evaluate (epoch 19) -- logp(x) = -3.493 +/- 0.020\n",
      "epoch  20 / 100, step    0 / 800; loss 3.4049\n",
      "epoch  20 / 100, step  500 / 800; loss 3.4946\n",
      "Evaluate (epoch 20) -- logp(x) = -3.492 +/- 0.020\n",
      "epoch  21 / 100, step    0 / 800; loss 3.3727\n",
      "epoch  21 / 100, step  500 / 800; loss 3.2922\n",
      "Evaluate (epoch 21) -- logp(x) = -3.489 +/- 0.018\n",
      "epoch  22 / 100, step    0 / 800; loss 3.4215\n",
      "epoch  22 / 100, step  500 / 800; loss 3.4826\n",
      "Evaluate (epoch 22) -- logp(x) = -3.496 +/- 0.020\n",
      "epoch  23 / 100, step    0 / 800; loss 3.5703\n",
      "epoch  23 / 100, step  500 / 800; loss 3.6787\n",
      "Evaluate (epoch 23) -- logp(x) = -3.496 +/- 0.020\n",
      "epoch  24 / 100, step    0 / 800; loss 3.5222\n",
      "epoch  24 / 100, step  500 / 800; loss 3.5541\n",
      "Evaluate (epoch 24) -- logp(x) = -3.496 +/- 0.020\n",
      "epoch  25 / 100, step    0 / 800; loss 3.6168\n",
      "epoch  25 / 100, step  500 / 800; loss 3.6840\n",
      "Evaluate (epoch 25) -- logp(x) = -3.491 +/- 0.018\n",
      "epoch  26 / 100, step    0 / 800; loss 3.4576\n",
      "epoch  26 / 100, step  500 / 800; loss 3.4287\n",
      "Evaluate (epoch 26) -- logp(x) = -3.495 +/- 0.019\n",
      "epoch  27 / 100, step    0 / 800; loss 3.4103\n",
      "epoch  27 / 100, step  500 / 800; loss 3.3705\n",
      "Evaluate (epoch 27) -- logp(x) = -3.493 +/- 0.019\n",
      "epoch  28 / 100, step    0 / 800; loss 3.6146\n",
      "epoch  28 / 100, step  500 / 800; loss 3.5430\n",
      "Evaluate (epoch 28) -- logp(x) = -3.489 +/- 0.019\n",
      "epoch  29 / 100, step    0 / 800; loss 3.4184\n",
      "epoch  29 / 100, step  500 / 800; loss 3.5009\n",
      "Evaluate (epoch 29) -- logp(x) = -3.489 +/- 0.019\n",
      "epoch  30 / 100, step    0 / 800; loss 3.5571\n",
      "epoch  30 / 100, step  500 / 800; loss 3.5227\n",
      "Evaluate (epoch 30) -- logp(x) = -3.489 +/- 0.019\n",
      "epoch  31 / 100, step    0 / 800; loss 3.5239\n",
      "epoch  31 / 100, step  500 / 800; loss 3.4576\n",
      "Evaluate (epoch 31) -- logp(x) = -3.494 +/- 0.020\n",
      "epoch  32 / 100, step    0 / 800; loss 3.3507\n",
      "epoch  32 / 100, step  500 / 800; loss 3.4212\n",
      "Evaluate (epoch 32) -- logp(x) = -3.488 +/- 0.019\n",
      "saving model at epoch 32\n",
      "epoch  33 / 100, step    0 / 800; loss 3.4412\n",
      "epoch  33 / 100, step  500 / 800; loss 3.4822\n",
      "Evaluate (epoch 33) -- logp(x) = -3.494 +/- 0.018\n",
      "epoch  34 / 100, step    0 / 800; loss 3.6473\n",
      "epoch  34 / 100, step  500 / 800; loss 3.6189\n",
      "Evaluate (epoch 34) -- logp(x) = -3.496 +/- 0.018\n",
      "epoch  35 / 100, step    0 / 800; loss 3.5190\n",
      "epoch  35 / 100, step  500 / 800; loss 3.4489\n",
      "Evaluate (epoch 35) -- logp(x) = -3.491 +/- 0.019\n",
      "epoch  36 / 100, step    0 / 800; loss 3.4233\n",
      "epoch  36 / 100, step  500 / 800; loss 3.3886\n",
      "Evaluate (epoch 36) -- logp(x) = -3.490 +/- 0.019\n",
      "epoch  37 / 100, step    0 / 800; loss 3.4331\n",
      "epoch  37 / 100, step  500 / 800; loss 3.3751\n",
      "Evaluate (epoch 37) -- logp(x) = -3.489 +/- 0.019\n",
      "epoch  38 / 100, step    0 / 800; loss 3.4292\n",
      "epoch  38 / 100, step  500 / 800; loss 3.4995\n",
      "Evaluate (epoch 38) -- logp(x) = -3.487 +/- 0.019\n",
      "saving model at epoch 38\n",
      "epoch  39 / 100, step    0 / 800; loss 3.4577\n",
      "epoch  39 / 100, step  500 / 800; loss 3.3991\n",
      "Evaluate (epoch 39) -- logp(x) = -3.493 +/- 0.019\n",
      "epoch  40 / 100, step    0 / 800; loss 3.4178\n",
      "epoch  40 / 100, step  500 / 800; loss 3.3990\n",
      "Evaluate (epoch 40) -- logp(x) = -3.491 +/- 0.018\n",
      "epoch  41 / 100, step    0 / 800; loss 3.4155\n",
      "epoch  41 / 100, step  500 / 800; loss 3.4505\n",
      "Evaluate (epoch 41) -- logp(x) = -3.488 +/- 0.019\n",
      "epoch  42 / 100, step    0 / 800; loss 3.3163\n",
      "epoch  42 / 100, step  500 / 800; loss 3.5825\n",
      "Evaluate (epoch 42) -- logp(x) = -3.491 +/- 0.019\n",
      "epoch  43 / 100, step    0 / 800; loss 3.5623\n",
      "epoch  43 / 100, step  500 / 800; loss 3.5036\n",
      "Evaluate (epoch 43) -- logp(x) = -3.488 +/- 0.019\n",
      "epoch  44 / 100, step    0 / 800; loss 3.4787\n",
      "epoch  44 / 100, step  500 / 800; loss 3.3874\n",
      "Evaluate (epoch 44) -- logp(x) = -3.503 +/- 0.020\n",
      "epoch  45 / 100, step    0 / 800; loss 3.4074\n",
      "epoch  45 / 100, step  500 / 800; loss 3.3600\n",
      "Evaluate (epoch 45) -- logp(x) = -3.497 +/- 0.020\n",
      "epoch  46 / 100, step    0 / 800; loss 3.4490\n",
      "epoch  46 / 100, step  500 / 800; loss 3.3677\n",
      "Evaluate (epoch 46) -- logp(x) = -3.494 +/- 0.019\n",
      "epoch  47 / 100, step    0 / 800; loss 3.2896\n",
      "epoch  47 / 100, step  500 / 800; loss 3.4334\n",
      "Evaluate (epoch 47) -- logp(x) = -3.489 +/- 0.018\n",
      "epoch  48 / 100, step    0 / 800; loss 3.3894\n",
      "epoch  48 / 100, step  500 / 800; loss 3.5267\n",
      "Evaluate (epoch 48) -- logp(x) = -3.507 +/- 0.020\n",
      "epoch  49 / 100, step    0 / 800; loss 3.4774\n",
      "epoch  49 / 100, step  500 / 800; loss 3.5710\n",
      "Evaluate (epoch 49) -- logp(x) = -3.489 +/- 0.019\n",
      "epoch  50 / 100, step    0 / 800; loss 3.4206\n",
      "epoch  50 / 100, step  500 / 800; loss 3.4181\n",
      "Evaluate (epoch 50) -- logp(x) = -3.488 +/- 0.018\n",
      "epoch  51 / 100, step    0 / 800; loss 3.5930\n",
      "epoch  51 / 100, step  500 / 800; loss 3.7148\n",
      "Evaluate (epoch 51) -- logp(x) = -3.488 +/- 0.019\n",
      "epoch  52 / 100, step    0 / 800; loss 3.3760\n",
      "epoch  52 / 100, step  500 / 800; loss 3.4595\n",
      "Evaluate (epoch 52) -- logp(x) = -3.493 +/- 0.020\n",
      "epoch  53 / 100, step    0 / 800; loss 3.3953\n",
      "epoch  53 / 100, step  500 / 800; loss 3.5020\n",
      "Evaluate (epoch 53) -- logp(x) = -3.489 +/- 0.019\n",
      "epoch  54 / 100, step    0 / 800; loss 3.5641\n",
      "epoch  54 / 100, step  500 / 800; loss 3.6103\n",
      "Evaluate (epoch 54) -- logp(x) = -3.489 +/- 0.019\n",
      "epoch  55 / 100, step    0 / 800; loss 3.5793\n",
      "epoch  55 / 100, step  500 / 800; loss 3.4358\n",
      "Evaluate (epoch 55) -- logp(x) = -3.488 +/- 0.019\n",
      "epoch  56 / 100, step    0 / 800; loss 3.5134\n",
      "epoch  56 / 100, step  500 / 800; loss 3.4269\n"
     ]
    },
    {
     "name": "stdout",
     "output_type": "stream",
     "text": [
      "Evaluate (epoch 56) -- logp(x) = -3.490 +/- 0.020\n",
      "epoch  57 / 100, step    0 / 800; loss 3.5094\n",
      "epoch  57 / 100, step  500 / 800; loss 3.3981\n",
      "Evaluate (epoch 57) -- logp(x) = -3.487 +/- 0.019\n",
      "saving model at epoch 57\n",
      "epoch  58 / 100, step    0 / 800; loss 3.4685\n",
      "epoch  58 / 100, step  500 / 800; loss 3.5293\n",
      "Evaluate (epoch 58) -- logp(x) = -3.489 +/- 0.019\n",
      "epoch  59 / 100, step    0 / 800; loss 3.7048\n",
      "epoch  59 / 100, step  500 / 800; loss 3.5029\n",
      "Evaluate (epoch 59) -- logp(x) = -3.489 +/- 0.019\n",
      "epoch  60 / 100, step    0 / 800; loss 3.3791\n",
      "epoch  60 / 100, step  500 / 800; loss 3.2195\n",
      "Evaluate (epoch 60) -- logp(x) = -3.488 +/- 0.019\n",
      "epoch  61 / 100, step    0 / 800; loss 3.4480\n",
      "epoch  61 / 100, step  500 / 800; loss 3.2875\n",
      "Evaluate (epoch 61) -- logp(x) = -3.489 +/- 0.019\n",
      "epoch  62 / 100, step    0 / 800; loss 3.4536\n",
      "epoch  62 / 100, step  500 / 800; loss 3.5067\n",
      "Evaluate (epoch 62) -- logp(x) = -3.490 +/- 0.020\n",
      "epoch  63 / 100, step    0 / 800; loss 3.3615\n",
      "epoch  63 / 100, step  500 / 800; loss 3.5039\n",
      "Evaluate (epoch 63) -- logp(x) = -3.493 +/- 0.018\n",
      "epoch  64 / 100, step    0 / 800; loss 3.4089\n",
      "epoch  64 / 100, step  500 / 800; loss 3.6321\n",
      "Evaluate (epoch 64) -- logp(x) = -3.489 +/- 0.019\n",
      "epoch  65 / 100, step    0 / 800; loss 3.4148\n",
      "epoch  65 / 100, step  500 / 800; loss 3.4094\n",
      "Evaluate (epoch 65) -- logp(x) = -3.489 +/- 0.019\n",
      "epoch  66 / 100, step    0 / 800; loss 3.4759\n",
      "epoch  66 / 100, step  500 / 800; loss 3.5618\n",
      "Evaluate (epoch 66) -- logp(x) = -3.490 +/- 0.020\n",
      "epoch  67 / 100, step    0 / 800; loss 3.5392\n",
      "epoch  67 / 100, step  500 / 800; loss 3.4244\n",
      "Evaluate (epoch 67) -- logp(x) = -3.496 +/- 0.019\n",
      "epoch  68 / 100, step    0 / 800; loss 3.3535\n",
      "epoch  68 / 100, step  500 / 800; loss 3.4556\n",
      "Evaluate (epoch 68) -- logp(x) = -3.486 +/- 0.019\n",
      "saving model at epoch 68\n",
      "epoch  69 / 100, step    0 / 800; loss 3.4580\n",
      "epoch  69 / 100, step  500 / 800; loss 3.4530\n",
      "Evaluate (epoch 69) -- logp(x) = -3.489 +/- 0.019\n",
      "epoch  70 / 100, step    0 / 800; loss 3.4758\n",
      "epoch  70 / 100, step  500 / 800; loss 3.5094\n",
      "Evaluate (epoch 70) -- logp(x) = -3.488 +/- 0.019\n",
      "epoch  71 / 100, step    0 / 800; loss 3.4679\n",
      "epoch  71 / 100, step  500 / 800; loss 3.5441\n",
      "Evaluate (epoch 71) -- logp(x) = -3.489 +/- 0.019\n",
      "epoch  72 / 100, step    0 / 800; loss 3.4913\n",
      "epoch  72 / 100, step  500 / 800; loss 3.6182\n",
      "Evaluate (epoch 72) -- logp(x) = -3.490 +/- 0.018\n",
      "epoch  73 / 100, step    0 / 800; loss 3.6228\n",
      "epoch  73 / 100, step  500 / 800; loss 3.6347\n",
      "Evaluate (epoch 73) -- logp(x) = -3.489 +/- 0.018\n",
      "epoch  74 / 100, step    0 / 800; loss 3.5111\n",
      "epoch  74 / 100, step  500 / 800; loss 3.5239\n",
      "Evaluate (epoch 74) -- logp(x) = -3.488 +/- 0.018\n",
      "epoch  75 / 100, step    0 / 800; loss 3.4451\n",
      "epoch  75 / 100, step  500 / 800; loss 3.4665\n",
      "Evaluate (epoch 75) -- logp(x) = -3.486 +/- 0.019\n",
      "epoch  76 / 100, step    0 / 800; loss 3.3496\n",
      "epoch  76 / 100, step  500 / 800; loss 3.4267\n",
      "Evaluate (epoch 76) -- logp(x) = -3.489 +/- 0.020\n",
      "epoch  77 / 100, step    0 / 800; loss 3.6438\n",
      "epoch  77 / 100, step  500 / 800; loss 3.4132\n",
      "Evaluate (epoch 77) -- logp(x) = -3.489 +/- 0.019\n",
      "epoch  78 / 100, step    0 / 800; loss 3.3833\n",
      "epoch  78 / 100, step  500 / 800; loss 3.4345\n",
      "Evaluate (epoch 78) -- logp(x) = -3.486 +/- 0.019\n",
      "epoch  79 / 100, step    0 / 800; loss 3.5899\n",
      "epoch  79 / 100, step  500 / 800; loss 3.4552\n",
      "Evaluate (epoch 79) -- logp(x) = -3.488 +/- 0.019\n",
      "epoch  80 / 100, step    0 / 800; loss 3.3861\n",
      "epoch  80 / 100, step  500 / 800; loss 3.3349\n",
      "Evaluate (epoch 80) -- logp(x) = -3.497 +/- 0.019\n",
      "epoch  81 / 100, step    0 / 800; loss 3.5513\n",
      "epoch  81 / 100, step  500 / 800; loss 3.5559\n",
      "Evaluate (epoch 81) -- logp(x) = -3.504 +/- 0.020\n",
      "epoch  82 / 100, step    0 / 800; loss 3.5474\n",
      "epoch  82 / 100, step  500 / 800; loss 3.5033\n",
      "Evaluate (epoch 82) -- logp(x) = -3.487 +/- 0.019\n",
      "epoch  83 / 100, step    0 / 800; loss 3.5146\n",
      "epoch  83 / 100, step  500 / 800; loss 3.5602\n",
      "Evaluate (epoch 83) -- logp(x) = -3.488 +/- 0.018\n",
      "epoch  84 / 100, step    0 / 800; loss 3.6173\n",
      "epoch  84 / 100, step  500 / 800; loss 3.4350\n",
      "Evaluate (epoch 84) -- logp(x) = -3.490 +/- 0.019\n",
      "epoch  85 / 100, step    0 / 800; loss 3.5065\n",
      "epoch  85 / 100, step  500 / 800; loss 3.5309\n",
      "Evaluate (epoch 85) -- logp(x) = -3.492 +/- 0.019\n",
      "epoch  86 / 100, step    0 / 800; loss 3.3736\n",
      "epoch  86 / 100, step  500 / 800; loss 3.4400\n",
      "Evaluate (epoch 86) -- logp(x) = -3.488 +/- 0.019\n",
      "epoch  87 / 100, step    0 / 800; loss 3.5265\n",
      "epoch  87 / 100, step  500 / 800; loss 3.4860\n",
      "Evaluate (epoch 87) -- logp(x) = -3.489 +/- 0.019\n",
      "epoch  88 / 100, step    0 / 800; loss 3.4999\n",
      "epoch  88 / 100, step  500 / 800; loss 3.4860\n",
      "Evaluate (epoch 88) -- logp(x) = -3.490 +/- 0.019\n",
      "epoch  89 / 100, step    0 / 800; loss 3.5761\n",
      "epoch  89 / 100, step  500 / 800; loss 3.6478\n",
      "Evaluate (epoch 89) -- logp(x) = -3.487 +/- 0.019\n",
      "epoch  90 / 100, step    0 / 800; loss 3.3581\n",
      "epoch  90 / 100, step  500 / 800; loss 3.4773\n",
      "Evaluate (epoch 90) -- logp(x) = -3.489 +/- 0.018\n",
      "epoch  91 / 100, step    0 / 800; loss 3.3382\n",
      "epoch  91 / 100, step  500 / 800; loss 3.3696\n",
      "Evaluate (epoch 91) -- logp(x) = -3.494 +/- 0.019\n",
      "epoch  92 / 100, step    0 / 800; loss 3.3794\n",
      "epoch  92 / 100, step  500 / 800; loss 3.5644\n",
      "Evaluate (epoch 92) -- logp(x) = -3.488 +/- 0.019\n",
      "epoch  93 / 100, step    0 / 800; loss 3.4895\n",
      "epoch  93 / 100, step  500 / 800; loss 3.4699\n",
      "Evaluate (epoch 93) -- logp(x) = -3.497 +/- 0.020\n",
      "epoch  94 / 100, step    0 / 800; loss 3.4212\n",
      "epoch  94 / 100, step  500 / 800; loss 3.3823\n",
      "Evaluate (epoch 94) -- logp(x) = -3.489 +/- 0.018\n",
      "epoch  95 / 100, step    0 / 800; loss 3.5568\n",
      "epoch  95 / 100, step  500 / 800; loss 3.6675\n",
      "Evaluate (epoch 95) -- logp(x) = -3.493 +/- 0.020\n",
      "epoch  96 / 100, step    0 / 800; loss 3.3790\n",
      "epoch  96 / 100, step  500 / 800; loss 3.5282\n",
      "Evaluate (epoch 96) -- logp(x) = -3.489 +/- 0.019\n",
      "epoch  97 / 100, step    0 / 800; loss 3.4477\n",
      "epoch  97 / 100, step  500 / 800; loss 3.5630\n",
      "Evaluate (epoch 97) -- logp(x) = -3.490 +/- 0.019\n",
      "epoch  98 / 100, step    0 / 800; loss 3.5449\n",
      "epoch  98 / 100, step  500 / 800; loss 3.4194\n",
      "Evaluate (epoch 98) -- logp(x) = -3.491 +/- 0.020\n",
      "epoch  99 / 100, step    0 / 800; loss 3.5728\n",
      "epoch  99 / 100, step  500 / 800; loss 3.5605\n",
      "Evaluate (epoch 99) -- logp(x) = -3.491 +/- 0.019\n"
     ]
    }
   ],
   "source": [
    "train(args, config, dataloaders, device)"
   ]
  },
  {
   "cell_type": "markdown",
   "metadata": {},
   "source": [
    "# Dataset"
   ]
  },
  {
   "cell_type": "code",
   "execution_count": 77,
   "metadata": {},
   "outputs": [],
   "source": [
    "import torch\n",
    "from torch.distributions import Normal"
   ]
  },
  {
   "cell_type": "code",
   "execution_count": 78,
   "metadata": {},
   "outputs": [],
   "source": [
    "p = Normal(0, 1)\n",
    "q = Normal(3, 1)"
   ]
  },
  {
   "cell_type": "code",
   "execution_count": 79,
   "metadata": {},
   "outputs": [],
   "source": [
    "px = p.sample((2000,2))\n",
    "qx = q.sample((2000,2))"
   ]
  },
  {
   "cell_type": "code",
   "execution_count": 80,
   "metadata": {},
   "outputs": [
    {
     "data": {
      "image/png": "[encoded data removed]",
      "text/plain": [
       "<Figure size 576x360 with 1 Axes>"
      ]
     },
     "metadata": {
      "needs_background": "light"
     },
     "output_type": "display_data"
    }
   ],
   "source": [
    "plt.figure(figsize=(8,5))\n",
    "plt.scatter(px[:,0], px[:,1], label=r'$p_X(x)$', s=10, color='darkred')\n",
    "plt.scatter(qx[:,0], qx[:,1], label=r'$q_X(x)$', s=10, color='tab:blue')\n",
    "\n",
    "plt.legend(loc='lower right', fontsize=20)\n",
    "plt.xlabel(r'$x_1$')\n",
    "plt.ylabel(r'$x_2$')\n",
    "\n",
    "plt.xticks(fontsize=20)\n",
    "plt.yticks(fontsize=20)\n",
    "plt.tight_layout()\n",
    "sns.despine()"
   ]
  },
  {
   "cell_type": "code",
   "execution_count": 81,
   "metadata": {},
   "outputs": [
    {
     "data": {
      "text/plain": [
       "torch.Size([4000, 2])"
      ]
     },
     "execution_count": 81,
     "metadata": {},
     "output_type": "execute_result"
    }
   ],
   "source": [
    "true_xs = torch.cat([px, qx])\n",
    "true_xs.shape"
   ]
  },
  {
   "cell_type": "code",
   "execution_count": 82,
   "metadata": {},
   "outputs": [],
   "source": [
    "true_ratios = torch.exp((q.log_prob(true_xs).sum(-1) - p.log_prob(true_xs).sum(-1)))\n",
    "true_log_r = torch.log(true_ratios)"
   ]
  },
  {
   "cell_type": "code",
   "execution_count": 83,
   "metadata": {
    "scrolled": true
   },
   "outputs": [
    {
     "data": {
      "image/png": "[encoded data removed]",
      "text/plain": [
       "<Figure size 576x360 with 1 Axes>"
      ]
     },
     "metadata": {
      "needs_background": "light"
     },
     "output_type": "display_data"
    }
   ],
   "source": [
    "plt.figure(figsize=(8,5))\n",
    "_ = plt.hist(true_log_r.data.cpu().numpy(), bins=50, label='log r(x)')\n",
    "# plt.title('True log ratios')\n",
    "\n",
    "plt.xticks(fontsize=20)\n",
    "plt.yticks(fontsize=20)\n",
    "plt.legend(fontsize=15)\n",
    "\n",
    "plt.ylabel('Frequency', fontsize=20)\n",
    "plt.xlabel('Log ratios', fontsize=20)\n",
    "sns.despine()\n",
    "plt.tight_layout()"
   ]
  },
  {
   "cell_type": "markdown",
   "metadata": {},
   "source": [
    "------"
   ]
  },
  {
   "cell_type": "markdown",
   "metadata": {},
   "source": [
    "# Z-Space"
   ]
  },
  {
   "cell_type": "code",
   "execution_count": 95,
   "metadata": {},
   "outputs": [],
   "source": [
    "device = 'cpu'"
   ]
  },
  {
   "cell_type": "code",
   "execution_count": 96,
   "metadata": {},
   "outputs": [],
   "source": [
    "# with open(os.path.join('configs/classification/gmm/mlp_z.yaml'), 'r') as f:\n",
    "#     config = yaml.safe_load(f)\n",
    "# new_config = dict2namespace(config)"
   ]
  },
  {
   "cell_type": "code",
   "execution_count": 97,
   "metadata": {},
   "outputs": [],
   "source": [
    "# z_mlp = MLPClassifierv2(new_config)\n",
    "# restore_file = 'classification/results/gmm_z/checkpoints/model_best.pth'\n",
    "# state = torch.load(restore_file, map_location='cpu')\n",
    "# z_mlp.load_state_dict(state['state_dict'])\n",
    "# z_mlp = z_mlp.to(device)"
   ]
  },
  {
   "cell_type": "code",
   "execution_count": 102,
   "metadata": {
    "scrolled": true
   },
   "outputs": [
    {
     "data": {
      "text/plain": [
       "MAF(\n",
       "  (net): FlowSequential(\n",
       "    (0): MADE(\n",
       "      (net_input): MaskedLinear(in_features=2, out_features=100, bias=True)\n",
       "      (net): Sequential(\n",
       "        (0): ReLU()\n",
       "        (1): MaskedLinear(in_features=100, out_features=100, bias=True)\n",
       "        (2): ReLU()\n",
       "        (3): MaskedLinear(in_features=100, out_features=4, bias=True)\n",
       "      )\n",
       "    )\n",
       "    (1): BatchNorm()\n",
       "    (2): MADE(\n",
       "      (net_input): MaskedLinear(in_features=2, out_features=100, bias=True)\n",
       "      (net): Sequential(\n",
       "        (0): ReLU()\n",
       "        (1): MaskedLinear(in_features=100, out_features=100, bias=True)\n",
       "        (2): ReLU()\n",
       "        (3): MaskedLinear(in_features=100, out_features=4, bias=True)\n",
       "      )\n",
       "    )\n",
       "    (3): BatchNorm()\n",
       "    (4): MADE(\n",
       "      (net_input): MaskedLinear(in_features=2, out_features=100, bias=True)\n",
       "      (net): Sequential(\n",
       "        (0): ReLU()\n",
       "        (1): MaskedLinear(in_features=100, out_features=100, bias=True)\n",
       "        (2): ReLU()\n",
       "        (3): MaskedLinear(in_features=100, out_features=4, bias=True)\n",
       "      )\n",
       "    )\n",
       "    (5): BatchNorm()\n",
       "    (6): MADE(\n",
       "      (net_input): MaskedLinear(in_features=2, out_features=100, bias=True)\n",
       "      (net): Sequential(\n",
       "        (0): ReLU()\n",
       "        (1): MaskedLinear(in_features=100, out_features=100, bias=True)\n",
       "        (2): ReLU()\n",
       "        (3): MaskedLinear(in_features=100, out_features=4, bias=True)\n",
       "      )\n",
       "    )\n",
       "    (7): BatchNorm()\n",
       "    (8): MADE(\n",
       "      (net_input): MaskedLinear(in_features=2, out_features=100, bias=True)\n",
       "      (net): Sequential(\n",
       "        (0): ReLU()\n",
       "        (1): MaskedLinear(in_features=100, out_features=100, bias=True)\n",
       "        (2): ReLU()\n",
       "        (3): MaskedLinear(in_features=100, out_features=4, bias=True)\n",
       "      )\n",
       "    )\n",
       "    (9): BatchNorm()\n",
       "  )\n",
       ")"
      ]
     },
     "execution_count": 102,
     "metadata": {},
     "output_type": "execute_result"
    }
   ],
   "source": [
    "# load flow\n",
    "import os\n",
    "from flows.models.maf import MAF\n",
    "\n",
    "# model = MAF(5, \n",
    "#             2, \n",
    "#             100, \n",
    "#             1, \n",
    "#             None, \n",
    "#             'relu', \n",
    "#             'sequential', \n",
    "#             batch_norm=True)\n",
    "model = get_model(config)\n",
    "restore_file = '/Users/jaron/Projects/f-dre/src/flows/results/gmm_flow_exp/'\n",
    "state = torch.load(os.path.join(restore_file, \"best_model_checkpoint.pt\"), map_location='cpu')\n",
    "model.load_state_dict(state['model_state'])\n",
    "model = model.to(device)\n",
    "model.eval()"
   ]
  },
  {
   "cell_type": "markdown",
   "metadata": {
    "scrolled": true
   },
   "source": [
    "# Get encoded vectors"
   ]
  },
  {
   "cell_type": "code",
   "execution_count": 103,
   "metadata": {},
   "outputs": [],
   "source": [
    "# get dres\n",
    "z, _ = model.forward(true_xs.cpu())\n",
    "#logits, probas = z_mlp(z.cpu())\n",
    "#z_log_ratios = (logsumexp_1p(-logits) - logsumexp_1p(logits)).squeeze()"
   ]
  },
  {
   "cell_type": "code",
   "execution_count": 104,
   "metadata": {},
   "outputs": [
    {
     "data": {
      "text/plain": [
       "tensor([[-0.4269,  0.7236],\n",
       "        [-0.2447,  0.2601],\n",
       "        [-1.1686, -0.6138],\n",
       "        ...,\n",
       "        [ 1.5062, -2.1610],\n",
       "        [ 0.4861,  1.1167],\n",
       "        [ 0.5751,  1.1846]], grad_fn=<AddBackward0>)"
      ]
     },
     "execution_count": 104,
     "metadata": {},
     "output_type": "execute_result"
    }
   ],
   "source": [
    "z"
   ]
  }
 ],
 "metadata": {
  "kernelspec": {
   "display_name": "Python 3 (ipykernel)",
   "language": "python",
   "name": "python3"
  },
  "language_info": {
   "codemirror_mode": {
    "name": "ipython",
    "version": 3
   },
   "file_extension": ".py",
   "mimetype": "text/x-python",
   "name": "python",
   "nbconvert_exporter": "python",
   "pygments_lexer": "ipython3",
   "version": "3.8.12"
  }
 },
 "nbformat": 4,
 "nbformat_minor": 2
}